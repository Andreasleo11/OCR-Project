{
 "cells": [
  {
   "cell_type": "code",
   "execution_count": 21,
   "id": "cdb78924",
   "metadata": {},
   "outputs": [],
   "source": [
    "from keras.models import load_model\n",
    "from PIL import Image\n",
    "import numpy as np\n",
    "import cv2"
   ]
  },
  {
   "cell_type": "code",
   "execution_count": 2,
   "id": "810803a0",
   "metadata": {},
   "outputs": [],
   "source": [
    "model = load_model('OCERusingNumber.h5')"
   ]
  },
  {
   "cell_type": "code",
   "execution_count": 50,
   "id": "c8983422",
   "metadata": {},
   "outputs": [],
   "source": [
    "img_height, img_width = 32, 32  # define the desired image size\n",
    "\n",
    "# def preprocess_img(img_path, img_height=32, img_width=32):\n",
    "#     img = cv2.imread(img_path, cv2.IMREAD_GRAYSCALE)\n",
    "# #     img = cv2.resize(img, (img_height, img_width))\n",
    "#     img = img.astype(np.float32) / 255.0  # normalize pixel values to [0, 1]\n",
    "#     img = np.expand_dims(img, axis=-1)  # add channel dimension\n",
    "#     img = np.expand_dims(img, axis=0)  # add batch dimension\n",
    "#     return img\n",
    "\n",
    "\n",
    "# Load and preprocess the input image\n",
    "img_path = '7test.png'\n",
    "img = cv2.imread(img_path, cv2.IMREAD_GRAYSCALE)\n",
    "img = cv2.resize(img, (32, 32))\n",
    "img = img.astype(np.float32) / 255.0  # normalize pixel values to [0, 1]\n",
    "img = np.expand_dims(img, axis=-1)  # add channel dimension\n",
    "img = np.expand_dims(img, axis=0)  # add batch dimension"
   ]
  },
  {
   "cell_type": "code",
   "execution_count": 51,
   "id": "0b47a3e8",
   "metadata": {},
   "outputs": [
    {
     "name": "stdout",
     "output_type": "stream",
     "text": [
      "1/1 [==============================] - 0s 23ms/step\n"
     ]
    }
   ],
   "source": [
    "\n",
    "# Get the predicted probabilities for each class\n",
    "probs = model.predict(img)"
   ]
  },
  {
   "cell_type": "code",
   "execution_count": 52,
   "id": "8c57f3a0",
   "metadata": {},
   "outputs": [
    {
     "name": "stdout",
     "output_type": "stream",
     "text": [
      "Predicted class index: 7\n",
      "Predicted class probability: 1.0\n"
     ]
    }
   ],
   "source": [
    "# Get the predicted class index\n",
    "class_idx = np.argmax(probs[0])\n",
    "\n",
    "# Print the predicted class index and corresponding probability\n",
    "print('Predicted class index:', class_idx)\n",
    "print('Predicted class probability:', probs[0][class_idx])"
   ]
  }
 ],
 "metadata": {
  "kernelspec": {
   "display_name": "Python 3 (ipykernel)",
   "language": "python",
   "name": "python3"
  },
  "language_info": {
   "codemirror_mode": {
    "name": "ipython",
    "version": 3
   },
   "file_extension": ".py",
   "mimetype": "text/x-python",
   "name": "python",
   "nbconvert_exporter": "python",
   "pygments_lexer": "ipython3",
   "version": "3.9.16"
  }
 },
 "nbformat": 4,
 "nbformat_minor": 5
}
